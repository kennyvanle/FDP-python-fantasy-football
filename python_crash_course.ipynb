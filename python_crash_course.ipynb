{
  "nbformat": 4,
  "nbformat_minor": 0,
  "metadata": {
    "colab": {
      "provenance": []
    },
    "kernelspec": {
      "name": "python3",
      "display_name": "Python 3"
    },
    "language_info": {
      "name": "python"
    }
  },
  "cells": [
    {
      "cell_type": "code",
      "execution_count": null,
      "metadata": {
        "colab": {
          "base_uri": "https://localhost:8080/"
        },
        "id": "Ky9l-si02BLG",
        "outputId": "e44efcc9-4efd-4e0e-94c3-1a7c21a45304"
      },
      "outputs": [
        {
          "output_type": "stream",
          "name": "stdout",
          "text": [
            "['Lamar', 'Jackson']\n",
            "Lamar Jackson\n",
            "Jalen Hurts\n"
          ]
        }
      ],
      "source": [
        "full_name = \"Lamar Jackson\"\n",
        "name = full_name.split()\n",
        "print(name)\n",
        "\n",
        "fName = name[0]\n",
        "lName = name[1]\n",
        "s = f'{fName} {lName}'\n",
        "print(s)\n",
        "\n",
        "full = ' '.join(['Jalen', 'Hurts'])\n",
        "print(full)\n"
      ]
    },
    {
      "cell_type": "code",
      "source": [
        "fantasy_data = {\n",
        "    'player_name': 'Kenneth Walker',\n",
        "    'rushing_yards': 1050\n",
        "}\n",
        "\n",
        "fantasy_data['tds'] = 9\n",
        "\n",
        "print(fantasy_data)\n",
        "\n",
        "touchdowns = fantasy_data.get('tds')\n",
        "\n",
        "print(touchdowns)\n",
        "\n",
        "# if we do dict.get('KEY') it is doing this check\n",
        "if 'tds' in fantasy_data:\n",
        "  print(fantasy_data['tds'])\n",
        "\n",
        "# this won't give us a key error\n",
        "na = fantasy_data.get('non_existant')\n",
        "print(na)\n",
        "\n",
        "# and we can default\n",
        "\n",
        "# this won't give us a key error\n",
        "na2 = fantasy_data.get('non_existant', 1000)\n",
        "print(na2)\n",
        "\n"
      ],
      "metadata": {
        "colab": {
          "base_uri": "https://localhost:8080/"
        },
        "id": "IZddzljc3kKQ",
        "outputId": "cc787c14-fc67-44bd-f3db-21960a54b37a"
      },
      "execution_count": null,
      "outputs": [
        {
          "output_type": "stream",
          "name": "stdout",
          "text": [
            "{'player_name': 'Kenneth Walker', 'rushing_yards': 1050, 'tds': 9}\n",
            "9\n",
            "9\n",
            "None\n",
            "1000\n"
          ]
        }
      ]
    },
    {
      "cell_type": "code",
      "source": [
        "# how to iterate over a dict\n",
        "\n",
        "player = {\n",
        "    'name': 'Jalen Hurts',\n",
        "    'position': 'QB'\n",
        "}\n",
        "\n",
        "# this is unpacking\n",
        "items = player.items()\n",
        "\n",
        "for k,v in items:\n",
        "  print(f'{k}: {v}')"
      ],
      "metadata": {
        "colab": {
          "base_uri": "https://localhost:8080/"
        },
        "id": "A_sx9esj4G1r",
        "outputId": "e95ef6ce-f475-4a7c-965d-95a9282d3fef"
      },
      "execution_count": null,
      "outputs": [
        {
          "output_type": "stream",
          "name": "stdout",
          "text": [
            "name: Jalen Hurts\n",
            "position: QB\n"
          ]
        }
      ]
    },
    {
      "cell_type": "code",
      "source": [
        "our_list = [1,2,3]\n",
        "our_list.append(4)\n",
        "\n",
        "print(our_list)"
      ],
      "metadata": {
        "colab": {
          "base_uri": "https://localhost:8080/"
        },
        "id": "dZWZ1m9Y5wNq",
        "outputId": "5cae49dd-2138-4977-ec4b-21daefabf88a"
      },
      "execution_count": null,
      "outputs": [
        {
          "output_type": "stream",
          "name": "stdout",
          "text": [
            "[1, 2, 3, 4]\n"
          ]
        }
      ]
    },
    {
      "cell_type": "code",
      "source": [
        "redzone = []\n",
        "\n",
        "for yardline in range(1,21):\n",
        "  redzone.append(yardline)\n",
        "\n",
        "print(redzone)\n",
        "\n",
        "# alternatively but i think it looks ugly\n",
        "\n",
        "rz = [yard for yard in range(1, 21)]\n",
        "\n",
        "print(rz)"
      ],
      "metadata": {
        "colab": {
          "base_uri": "https://localhost:8080/"
        },
        "id": "UUiyLP9u6Wuy",
        "outputId": "84ab0bab-8dcf-4903-e1cd-461a68ff3ace"
      },
      "execution_count": null,
      "outputs": [
        {
          "output_type": "stream",
          "name": "stdout",
          "text": [
            "[1, 2, 3, 4, 5, 6, 7, 8, 9, 10, 11, 12, 13, 14, 15, 16, 17, 18, 19, 20]\n",
            "[1, 2, 3, 4, 5, 6, 7, 8, 9, 10, 11, 12, 13, 14, 15, 16, 17, 18, 19, 20]\n"
          ]
        }
      ]
    },
    {
      "cell_type": "code",
      "source": [
        "# here is a good use for in line list comprehension\n",
        "\n",
        "# Official stats for 2022\n",
        "\n",
        "players = [{\n",
        "    'name': 'Justin Jefferson',\n",
        "    'catches': 128,\n",
        "    'yds': 1809,\n",
        "    'td': 8\n",
        "}, {\n",
        "    'name': 'Tyreek Hill',\n",
        "    'catches': 119,\n",
        "    'yds': 1553,\n",
        "    'td': 11\n",
        "}]\n",
        "\n",
        "fantasy_points = []\n",
        "for player in players:\n",
        "  points_scored = player.get('catches', 0) * 1 + player.get('yds', 0) * .1 + player.get('td', 0) * 6\n",
        "  fantasy_points.append(points_scored)\n",
        "\n",
        "print(fantasy_points)"
      ],
      "metadata": {
        "colab": {
          "base_uri": "https://localhost:8080/"
        },
        "id": "8eEhsZuj6oix",
        "outputId": "273f51f6-5146-4494-e100-4b5d8da4d3d4"
      },
      "execution_count": null,
      "outputs": [
        {
          "output_type": "stream",
          "name": "stdout",
          "text": [
            "[356.9, 340.3]\n"
          ]
        }
      ]
    },
    {
      "cell_type": "code",
      "source": [
        "# Official stats for 2022\n",
        "\n",
        "players = [{\n",
        "    'name': 'Justin Jefferson',\n",
        "    'catches': 128,\n",
        "    'yds': 1809,\n",
        "    'td': 8\n",
        "}, {\n",
        "    'name': 'Tyreek Hill',\n",
        "    'catches': 119,\n",
        "    'yds': 1553,\n",
        "    'td': 11\n",
        "}]\n",
        "\n",
        "def calc_score(player):\n",
        "  return player.get('catches', 0) * 1 + player.get('yds', 0) * .1 + player.get('td', 0) * 6\n",
        "\n",
        "fantasy_points = [calc_score(player) for player in players]\n",
        "\n",
        "print(fantasy_points)"
      ],
      "metadata": {
        "colab": {
          "base_uri": "https://localhost:8080/"
        },
        "id": "OnOZZ8Bx8tMw",
        "outputId": "3b5d7076-9c35-4c82-e430-201ed7395d52"
      },
      "execution_count": null,
      "outputs": [
        {
          "output_type": "stream",
          "name": "stdout",
          "text": [
            "[356.9, 340.3]\n"
          ]
        }
      ]
    },
    {
      "cell_type": "code",
      "source": [
        "# anonymous functions\n",
        "\n",
        "catches = [10,15,20,30]\n",
        "\n",
        "def half(x):\n",
        "  return x/2\n",
        "\n",
        "half_ppr = map(half,catches)\n",
        "print(half_ppr)\n",
        "\n",
        "print(list(half_ppr))\n",
        "\n",
        "h_ppr = map(lambda x: x/2, catches)\n",
        "print(h_ppr)\n",
        "print(list(h_ppr))"
      ],
      "metadata": {
        "colab": {
          "base_uri": "https://localhost:8080/"
        },
        "id": "Y7P9D7Lz88JQ",
        "outputId": "270e7f45-f17f-45e5-d792-edd1ad665436"
      },
      "execution_count": null,
      "outputs": [
        {
          "output_type": "stream",
          "name": "stdout",
          "text": [
            "<map object at 0x78d0bd6a8370>\n",
            "[5.0, 7.5, 10.0, 15.0]\n",
            "<map object at 0x78d0bd6a8160>\n",
            "[5.0, 7.5, 10.0, 15.0]\n"
          ]
        }
      ]
    },
    {
      "cell_type": "code",
      "source": [
        "# zip lets us package two iterables\n",
        "# think zipper\n",
        "\n",
        "player_names = ['Christian McCaffrey', 'Austin Ekeler', 'Rhamondre Stevenson']\n",
        "receptions = [85, 107, 69]\n",
        "\n",
        "player_receptions = dict(zip(player_names, receptions))\n",
        "print(player_receptions)\n",
        "\n",
        "for player, catches in player_receptions.items():\n",
        "  print(f'{player} had {catches} catches')"
      ],
      "metadata": {
        "colab": {
          "base_uri": "https://localhost:8080/"
        },
        "id": "F4h-BZKpVUC5",
        "outputId": "87bf5eb9-8d90-45cf-e78a-fc2810632c62"
      },
      "execution_count": null,
      "outputs": [
        {
          "output_type": "stream",
          "name": "stdout",
          "text": [
            "{'Christian McCaffrey': 85, 'Austin Ekeler': 107, 'Rhamondre Stevenson': 69}\n",
            "Christian McCaffrey had 85 catches\n",
            "Austin Ekeler had 107 catches\n",
            "Rhamondre Stevenson had 69 catches\n"
          ]
        }
      ]
    },
    {
      "cell_type": "code",
      "source": [],
      "metadata": {
        "id": "rWiEzxgAWoln"
      },
      "execution_count": null,
      "outputs": []
    }
  ]
}
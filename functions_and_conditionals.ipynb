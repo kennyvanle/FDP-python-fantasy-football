{
  "nbformat": 4,
  "nbformat_minor": 0,
  "metadata": {
    "colab": {
      "provenance": []
    },
    "kernelspec": {
      "name": "python3",
      "display_name": "Python 3"
    },
    "language_info": {
      "name": "python"
    }
  },
  "cells": [
    {
      "cell_type": "code",
      "execution_count": null,
      "metadata": {
        "colab": {
          "base_uri": "https://localhost:8080/"
        },
        "id": "sQuLuqbZxRH9",
        "outputId": "38f02b9b-9072-4880-ae49-1a112b84be69"
      },
      "outputs": [
        {
          "output_type": "stream",
          "name": "stdout",
          "text": [
            "Player A.J. Brown has a catch rate of 60.69%\n",
            "Player CeeDee Lamb has a catch rate of 68.59%\n",
            "Player Justin Jefferson has a catch rate of 69.57%\n"
          ]
        }
      ],
      "source": [
        "players = [{\n",
        "   'name': 'A.J. Brown',\n",
        "   'catches': 88,\n",
        "   'targets': 145\n",
        "   },\n",
        "   {\n",
        "   'name': 'CeeDee Lamb',\n",
        "   'catches': 107,\n",
        "   'targets': 156\n",
        "   },\n",
        "   {\n",
        "   'name': 'Justin Jefferson',\n",
        "   'catches': 128,\n",
        "   'targets': 184\n",
        "   },\n",
        "]\n",
        "\n",
        "\n",
        "def calculate_catch_rate(player: dict) -> int:\n",
        "  if type(player) is not dict:\n",
        "    print('You need to pass in a dictionary!')\n",
        "    return\n",
        "\n",
        "  catches = player['catches']\n",
        "  targets = player['targets']\n",
        "  catch_rate = catches/targets\n",
        "  catch_rate_percentage = round(catch_rate * 100, 2)\n",
        "  return catch_rate_percentage\n",
        "\n",
        "for player in players:\n",
        "  print('Player {} has a catch rate of {}%'.format(player['name'], calculate_catch_rate(player)))\n"
      ]
    },
    {
      "cell_type": "code",
      "source": [
        "class Player:\n",
        "  def __init__(self, name, team):\n",
        "    self.name = name\n",
        "    self.team = team\n",
        "\n",
        "class WideReceiver(Player):\n",
        "  def __init__(self, name, team, catches, targets):\n",
        "    super().__init__(name, team)\n",
        "    self.catches = catches\n",
        "    self.targets = targets\n",
        "    self.position = 'WR'\n",
        "\n",
        "  def catch_rate(self):\n",
        "    return self.catches/self.targets\n",
        "\n",
        "  def efficiency(self):\n",
        "    return{\n",
        "        'catch_rate': self.catch_rate(),\n",
        "        'ypc': 100\n",
        "    }\n",
        "\n",
        "jj = WideReceiver('JJ', 'Vikings', 128, 184)\n",
        "print(jj.name)\n",
        "print(jj.catches)\n",
        "print(jj.position)\n",
        "print(jj.catch_rate())\n",
        "print(jj.efficiency())"
      ],
      "metadata": {
        "colab": {
          "base_uri": "https://localhost:8080/"
        },
        "id": "PFl5p_7ZyunY",
        "outputId": "42b04b89-a248-418a-e8b3-056ab2e8fdb5"
      },
      "execution_count": null,
      "outputs": [
        {
          "output_type": "stream",
          "name": "stdout",
          "text": [
            "JJ\n",
            "128\n",
            "WR\n",
            "0.6956521739130435\n",
            "{'catch_rate': 0.6956521739130435, 'ypc': 100}\n"
          ]
        }
      ]
    },
    {
      "cell_type": "code",
      "source": [],
      "metadata": {
        "id": "M8X_e0HIJxLR"
      },
      "execution_count": null,
      "outputs": []
    }
  ]
}